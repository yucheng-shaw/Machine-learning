{
 "cells": [
  {
   "cell_type": "markdown",
   "metadata": {},
   "source": [
    "## Homework Goal\n",
    "\n",
    "The goal of this homework is to do <span style=\"background-color:yellow\"> linear regression </span> on Boston's house prices. After our training, we will have a model that can take in several attributes that may be related to house prices in Boston and give a prediction about the cost of this house.\n",
    "\n",
    "\n",
    "## Input Data Description\n",
    "<ul>\n",
    "The dataset is available in scikit-learn under <span style=\"background-color:yellow\"> sklearn.datasets </span> as load_boston.\n",
    "The data include...\n",
    "<li> total number of 506 cases\n",
    "<li> each case has 13 attributes that is relavent to the house price and\n",
    "<li> 1 target attribute: house price in some unit\n",
    "<ul>"
   ]
  },
  {
   "cell_type": "code",
   "execution_count": 256,
   "metadata": {},
   "outputs": [
    {
     "name": "stdout",
     "output_type": "stream",
     "text": [
      "<function load_boston at 0x10dee3730>\n",
      "(506, 13)\n",
      "(506,)\n",
      "[24.  21.6 34.7 33.4 36.2]\n",
      "[2.7310e-02 0.0000e+00 7.0700e+00 0.0000e+00 4.6900e-01 6.4210e+00\n",
      " 7.8900e+01 4.9671e+00 2.0000e+00 2.4200e+02 1.7800e+01 3.9690e+02\n",
      " 9.1400e+00]\n"
     ]
    }
   ],
   "source": [
    "#Load the dataset using sklearn.datasets and parse using pandas and numpy\n",
    "\n",
    "#import pandas as pd\n",
    "import numpy as np\n",
    "from sklearn.model_selection import train_test_split\n",
    "from sklearn.datasets import load_boston\n",
    "\n",
    "X, y = load_boston(return_X_y=True)\n",
    "#y = np.zeros(506,)\n",
    "#y[0:100] = 1\n",
    "print(load_boston)\n",
    "print(X.shape)\n",
    "print(y.shape)\n",
    "print(y[0:5])\n",
    "print(X[1])\n"
   ]
  },
  {
   "cell_type": "code",
   "execution_count": 257,
   "metadata": {},
   "outputs": [
    {
     "name": "stdout",
     "output_type": "stream",
     "text": [
      "(2, 4)\n"
     ]
    }
   ],
   "source": [
    "k=np.array([[1,2,3,3], [3,6,7,8]])\n",
    "print(k.shape)"
   ]
  },
  {
   "cell_type": "code",
   "execution_count": 258,
   "metadata": {},
   "outputs": [
    {
     "name": "stdout",
     "output_type": "stream",
     "text": [
      "(455, 13)\n",
      "(51, 13)\n",
      "<class 'numpy.float64'>\n"
     ]
    }
   ],
   "source": [
    "#randomly split the data set into train set and test set\n",
    "#test_size: portion of data set being used, random_state: randomizer we use\n",
    "X_train, X_test, y_train, y_test = train_test_split(X, y, test_size=.1, random_state=1)\n",
    "\n",
    "print(X_train.shape)\n",
    "print(X_test.shape)\n",
    "print(type(y_test[6]))\n",
    "#How do the splitter decide the ratio of data set in train and test set?\n"
   ]
  },
  {
   "cell_type": "code",
   "execution_count": 259,
   "metadata": {},
   "outputs": [
    {
     "name": "stdout",
     "output_type": "stream",
     "text": [
      "Training on 455 examples with 13 features\n",
      "Predicting on 51 examples with 13 features\n",
      "\n",
      "The mean_squared_error of prediction is 7.64\n",
      "Run time with all features: 0.26 sec\n",
      "\n",
      "\n"
     ]
    }
   ],
   "source": [
    "from sklearn.metrics import mean_squared_error\n",
    "import time\n",
    "import xgboost as xgb\n",
    "import warnings\n",
    "\n",
    "warnings.filterwarnings(action='ignore', category=DeprecationWarning)\n",
    "\n",
    "print(\"Training on %i examples with %i features\"%X_train.shape)\n",
    "\n",
    "#Use default parameters and train on full dataset\n",
    "#nthread is relavent to parallel computing and (seed is used to generate the fold randomly for cross validation of \n",
    "#in/ out sample error), n_estimators is the number of boosted trees\n",
    "XGBregressor = xgb.sklearn.XGBRegressor(n_estimators=500, booster='gbtree', max_depth=4, learning_rate=0.01,\\\n",
    "                                        min_child_weight=2)\n",
    "#Train and time regressor\n",
    "start_time = time.time()\n",
    "XGBregressor.fit(X_train, y_train)\n",
    "run_time = time.time() - start_time\n",
    "\n",
    "#Make Predictions\n",
    "print(\"Predicting on %i examples with %i features\\n\"%X_test.shape)\n",
    "y_pred= XGBregressor.predict(X_test)\n",
    "\n",
    "#Print Results\n",
    "#print(\"Model Accuracy with all features: {:.2f}%\".format(100*XGBregressor.score(X_test, y_test)))\n",
    "print(\"The mean_squared_error of prediction is {:.2f}\".format(mean_squared_error(y_test,y_pred)))\n",
    "print(\"Run time with all features: {:.2f} sec\\n\\n\".format(run_time))"
   ]
  },
  {
   "cell_type": "markdown",
   "metadata": {},
   "source": [
    "## Problems\n",
    "<ul>\n",
    "<li>After searching through some literatures, I found that the boost mechanism can also be used for linear regression via changing classifiers to linear functions. The XGBoost webpage also have descriptions about setting the learner to be linear HOWEVER it says that in this case, there will be no 'feature importances' which make sense. \n",
    "(cf.  https://xgboost.readthedocs.io/en/latest/python/python_api.html  property feature_importances_) \n",
    "<li>However, I still find some other boosting package such as sklearn ensemble that can compute feature importances for linear regression model which I find strange. \n",
    "(c.f. https://scikit-learn.org/stable/auto_examples/ensemble/plot_gradient_boosting_regression.html#sphx-glr-auto-examples-ensemble-plot-gradient-boosting-regression-py )\n",
    "<li>Next question now: how is there still <span style=\"background-color:yellow\"> feature_ importances </span> instead of <span style=\"background-color:yellow\"> coef_ attribute </span> in sklearn linear regression model? \n",
    "<li>I see... It's a problem of API of XGBoost. In 'XGBClassifier' one can only train logistic regression, while for 'XGBRegressor', one can do linear regression with gradient boost.\n",
    "<ul>"
   ]
  },
  {
   "cell_type": "code",
   "execution_count": 260,
   "metadata": {},
   "outputs": [
    {
     "data": {
      "image/png": "[encoded data removed]",
      "text/plain": [
       "<matplotlib.figure.Figure at 0x113be3c50>"
      ]
     },
     "metadata": {},
     "output_type": "display_data"
    }
   ],
   "source": [
    "import matplotlib as mpl\n",
    "import matplotlib.pyplot as plt\n",
    "\n",
    "\n",
    "%matplotlib inline  \n",
    "\n",
    "fig=plt.figure()\n",
    "xgb.plot_importance(XGBregressor, ax=plt.gca())\n",
    "fig.subplots_adjust(left=0.4)"
   ]
  },
  {
   "cell_type": "markdown",
   "metadata": {},
   "source": [
    "## SelectFromModel select important features "
   ]
  },
  {
   "cell_type": "code",
   "execution_count": 261,
   "metadata": {},
   "outputs": [
    {
     "data": {
      "text/plain": [
       "SelectFromModel(estimator=XGBRegressor(base_score=0.5, booster='gbtree',\n",
       "                                       colsample_bylevel=1, colsample_bynode=1,\n",
       "                                       colsample_bytree=1, gamma=0, gpu_id=-1,\n",
       "                                       importance_type='gain',\n",
       "                                       interaction_constraints=None,\n",
       "                                       learning_rate=0.01, max_delta_step=0,\n",
       "                                       max_depth=4, min_child_weight=2,\n",
       "                                       missing=nan, monotone_constraints=None,\n",
       "                                       n_estimators=500, n_jobs=0,\n",
       "                                       num_parallel_tree=1,\n",
       "                                       objective='reg:squarederror',\n",
       "                                       random_state=0, reg_alpha=0,\n",
       "                                       reg_lambda=1, scale_pos_weight=1,\n",
       "                                       subsample=1, tree_method=None,\n",
       "                                       validate_parameters=False,\n",
       "                                       verbosity=None),\n",
       "                max_features=None, norm_order=1, prefit=False, threshold=0.01)"
      ]
     },
     "execution_count": 261,
     "metadata": {},
     "output_type": "execute_result"
    }
   ],
   "source": [
    "#pruning features in model with SelectFromModel\n",
    "from sklearn.feature_selection import SelectFromModel\n",
    "sfm = SelectFromModel(XGBregressor, threshold=0.01)\n",
    "\n",
    "#train\n",
    "sfm.fit(X_train, y_train)"
   ]
  },
  {
   "cell_type": "code",
   "execution_count": 262,
   "metadata": {},
   "outputs": [
    {
     "name": "stdout",
     "output_type": "stream",
     "text": [
      "number of features after pruning:  10\n",
      "Predicting on 51 examples with 10 features\n",
      "\n",
      "The mean_squared_error of prediction is 7.42\n",
      "Run time with all features: 0.24 sec\n",
      "\n",
      "\n"
     ]
    }
   ],
   "source": [
    "\n",
    "n_features = sfm.transform(X_train).shape[1]\n",
    "\n",
    "#prune training data\n",
    "print('number of features after pruning: ', n_features)\n",
    "pruned_X_train = sfm.transform(X_train)\n",
    "\n",
    "#Train and time regressor with data after pruning the features\n",
    "start_time = time.time()\n",
    "XGBregressor.fit(pruned_X_train, y_train)\n",
    "run_time = time.time() - start_time\n",
    "\n",
    "#prune testing data\n",
    "pruned_X_test = sfm.transform(X_test)\n",
    "\n",
    "#Make Predictions\n",
    "print(\"Predicting on %i examples with %i features\\n\"%pruned_X_test.shape)\n",
    "y_pred= XGBregressor.predict(pruned_X_test)\n",
    "\n",
    "#Print Results\n",
    "#print(\"Model Accuracy with all features: {:.2f}%\".format(100*XGBregressor.score(X_test, y_test)))\n",
    "print(\"The mean_squared_error of prediction is {:.2f}\".format(mean_squared_error(y_test,y_pred)))\n",
    "print(\"Run time with all features: {:.2f} sec\\n\\n\".format(run_time))\n",
    "\n",
    "#Print Results\n",
    "#print(\"The mean_squared_error of prediction is {:.2f}\".format(mean_squared_error(y_test,y_pred)))\n",
    "#print(\"Run time with all features: {:.2f} sec\\n\\n\".format(run_time))"
   ]
  },
  {
   "cell_type": "markdown",
   "metadata": {},
   "source": [
    "## Analysis\n",
    "The error after pruning the training features has slightly decrease, which is desired. //ignore the following //I think this may due to there exists better choice of hyperparameter for this particular set of features. To deal with this problem and decrease the error, we can use GridSearchCV to do the hyperparameter tuning. But, GridSearchCV seems to do hyperparameter testing with 'model' itself , which is irrelavent to the 'input data'. Or, the optimization actually start at .fit()? if so, then the grid search has take the training data into account. and the error should drop."
   ]
  },
  {
   "cell_type": "code",
   "execution_count": 263,
   "metadata": {},
   "outputs": [
    {
     "name": "stdout",
     "output_type": "stream",
     "text": [
      "Fitting 5 folds for each of 27 candidates, totalling 135 fits\n"
     ]
    },
    {
     "name": "stderr",
     "output_type": "stream",
     "text": [
      "[Parallel(n_jobs=-1)]: Using backend LokyBackend with 4 concurrent workers.\n",
      "[Parallel(n_jobs=-1)]: Done  40 tasks      | elapsed:    1.0s\n"
     ]
    },
    {
     "name": "stdout",
     "output_type": "stream",
     "text": [
      "{'learning_rate': 0.2, 'max_depth': 3, 'min_child_weight': 4}\n"
     ]
    },
    {
     "name": "stderr",
     "output_type": "stream",
     "text": [
      "[Parallel(n_jobs=-1)]: Done 135 out of 135 | elapsed:    2.9s finished\n"
     ]
    }
   ],
   "source": [
    "from sklearn.model_selection import GridSearchCV\n",
    "#Create values to search over\n",
    "cv_params = {'max_depth': [2,3,4], 'min_child_weight': [3,4,5], 'learning_rate':[0.18,0.2,0.22]}\n",
    "ind_params = {'n_estimators': 100, 'seed':1, 'colsample_bytree': 1}\n",
    "#**ind_params\n",
    "opt_XGBregressor = GridSearchCV(xgb.XGBRegressor(), \n",
    "                             cv_params, \n",
    "                             scoring = 'neg_mean_squared_error', cv = 5, n_jobs = -1, verbose=3)\n",
    "\n",
    "#opt_XGBregressor.get_params()\n",
    "opt_XGBregressor.fit(pruned_X_train, y_train)\n",
    "#sorted(opt_XGBregressor.cv_results_.keys())\n",
    "\n",
    "#get the best params\n",
    "print(opt_XGBregressor.best_params_)"
   ]
  },
  {
   "cell_type": "code",
   "execution_count": 264,
   "metadata": {},
   "outputs": [
    {
     "name": "stdout",
     "output_type": "stream",
     "text": [
      "The mean_squared_error of prediction is 7.68\n"
     ]
    }
   ],
   "source": [
    "y_pred= opt_XGBregressor.predict(pruned_X_test)\n",
    "\n",
    "#Print Results\n",
    "print(\"The mean_squared_error of prediction is {:.2f}\".format(mean_squared_error(y_test,y_pred)))\n",
    "#print(\"Run time with all features: {:.2f} sec\\n\\n\".format(run_time))\n",
    "#8.07(un-pruned)-> 8.26(pruned)->8.26(take out ind_params)"
   ]
  },
  {
   "cell_type": "markdown",
   "metadata": {},
   "source": [
    "## Conclusion\n",
    "1. The error after pruning (13 features-->5 features): 7.64-->7.42 decreased \n",
    "2. The error after GridSearchCV(with pruned features): 7.64-->7.68 increased. \n",
    "\n",
    "Given the abouve facts, it is only possible to explain that the methond of \"optimized by cross-validated\" is not good enough compared to the hyperparameters found by this reference. https://scikit-learn.org/stable/auto_examples/ensemble/plot_gradient_boosting_regression.html#sphx-glr-auto-examples-ensemble-plot-gradient-boosting-regression-py And is certainly not simply training with {given hyperparameters, all training data} and compare the error. I look up for explanation of cross validation in this reference. https://medium.com/@chih.sheng.huang821/交叉驗證-cross-validation-cv-3b2c714b18db"
   ]
  }
 ],
 "metadata": {
  "kernelspec": {
   "display_name": "Python 3",
   "language": "python",
   "name": "python3"
  },
  "language_info": {
   "codemirror_mode": {
    "name": "ipython",
    "version": 3
   },
   "file_extension": ".py",
   "mimetype": "text/x-python",
   "name": "python",
   "nbconvert_exporter": "python",
   "pygments_lexer": "ipython3",
   "version": "3.6.10"
  }
 },
 "nbformat": 4,
 "nbformat_minor": 2
}
